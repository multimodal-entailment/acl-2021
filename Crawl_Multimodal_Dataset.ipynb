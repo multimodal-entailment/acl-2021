{
  "nbformat": 4,
  "nbformat_minor": 0,
  "metadata": {
    "colab": {
      "name": "Crawl Multimodal Dataset.ipynb",
      "provenance": [],
      "collapsed_sections": []
    },
    "kernelspec": {
      "name": "python3",
      "display_name": "Python 3"
    },
    "language_info": {
      "name": "python"
    }
  },
  "cells": [
    {
      "cell_type": "code",
      "metadata": {
        "id": "NcD19fOvBT1F"
      },
      "source": [
        "!pip install -U tensorflow-addons\n",
        "!pip3 install twint\n",
        "!pip install whatthelang\n",
        "!pip install TwitterAPI\n",
        "!pip install Tweepy"
      ],
      "execution_count": null,
      "outputs": []
    },
    {
      "cell_type": "code",
      "metadata": {
        "id": "wNxi2DvVCiYL"
      },
      "source": [
        "import tensorflow as tf\n",
        "from tensorflow import keras\n",
        "from tensorflow.keras import layers\n",
        "import tensorflow_addons as tfa\n",
        "\n",
        "import os\n",
        "import tweepy\n",
        "import requests\n",
        "\n",
        "import pandas as pd\n",
        "import numpy as np\n",
        "\n",
        "from tweepy import OAuthHandler\n",
        "from tqdm import tqdm\n",
        "from bs4 import BeautifulSoup as bs\n",
        "from urllib.parse import urljoin, urlparse\n",
        "from requests_oauthlib import OAuth1"
      ],
      "execution_count": null,
      "outputs": []
    },
    {
      "cell_type": "code",
      "metadata": {
        "id": "K8JaO7GnBiFT"
      },
      "source": [
        "DATASET_PATH = 'https://raw.githubusercontent.com/multimodal-entailment/acl-2021/main/dataset_placeholder.csv'"
      ],
      "execution_count": null,
      "outputs": []
    },
    {
      "cell_type": "code",
      "metadata": {
        "id": "Lm-9HDAH3Qcm"
      },
      "source": [
        "df = pd.read_csv(DATASET_PATH)\n",
        "df"
      ],
      "execution_count": null,
      "outputs": []
    },
    {
      "cell_type": "code",
      "metadata": {
        "id": "Y091BuOJLkKy"
      },
      "source": [
        "consumer_key = 'xxxx'\n",
        "consumer_secret = 'yyyy'\n",
        "access_token = '0000-aaaa'\n",
        "access_secret = 'zzzz'\n",
        "auth = OAuth1(consumer_key, consumer_secret,\n",
        "              access_token, access_secret)"
      ],
      "execution_count": null,
      "outputs": []
    },
    {
      "cell_type": "code",
      "metadata": {
        "id": "TTNXjU_BSmCG"
      },
      "source": [
        "auth = OAuthHandler(consumer_key, consumer_secret)\n",
        "auth.set_access_token(access_token, access_secret)\n",
        " \n",
        "api = tweepy.API(auth)"
      ],
      "execution_count": null,
      "outputs": []
    },
    {
      "cell_type": "code",
      "metadata": {
        "id": "a-IkVbBjUj8n"
      },
      "source": [
        "def get_tweet_id(url):\n",
        "  url_split = url.split('/status/')\n",
        "  if len(url_split) < 2:\n",
        "    print('Error getting id from url', url)\n",
        "    return None\n",
        "    \n",
        "  return url_split[-1]"
      ],
      "execution_count": null,
      "outputs": []
    },
    {
      "cell_type": "code",
      "metadata": {
        "id": "NeNdgUHvkGdJ"
      },
      "source": [
        "def text_and_image_urls(api, tweet_id):\n",
        "  try:\n",
        "    tweet = api.get_status(tweet_id, tweet_mode=\"extended\")\n",
        "  except tweepy.TweepError as e:\n",
        "    print('TweepError for', tweet_id, ':',\n",
        "          e.args[0][0]['code'], e.args[0][0]['message'])\n",
        "    return None\n",
        "\n",
        "  try:  # Retweet.\n",
        "    text = tweet.retweeted_status.full_text\n",
        "    media_urls = []\n",
        "    media = tweet.retweeted_status.entities.get('media', [])\n",
        "    for m in media:\n",
        "      media_urls.append(m['media_url'])\n",
        "    return text, media_urls\n",
        "  except AttributeError:  # Not a Retweet.\n",
        "    text = tweet.full_text\n",
        "    media_urls = []\n",
        "    media = tweet.entities.get('media', [])\n",
        "    for m in media:\n",
        "      media_urls.append(m['media_url'])\n",
        "    return text, media_urls"
      ],
      "execution_count": null,
      "outputs": []
    },
    {
      "cell_type": "code",
      "metadata": {
        "id": "Vrtj_xTyTdLS"
      },
      "source": [
        "tweets = []\n",
        "\n",
        "for _, rows in df.iterrows():\n",
        "  id_1, id_2 = get_tweet_id(rows['url_1']), get_tweet_id(rows['url_2'])\n",
        "  if id_1 is None or id_2 is None:\n",
        "    continue\n",
        "\n",
        "  tweet1 = text_and_image_urls(api, id_1)\n",
        "  if tweet1 is None:\n",
        "    print(rows['url_1'])\n",
        "    continue\n",
        "  if len(tweet1[1]) != 1:\n",
        "    print('Tweet', id1, 'without exactly one image')\n",
        "    continue\n",
        "  text_1, image_1 = tweet1[0], tweet1[1][0]\n",
        "\n",
        "  tweet2 = text_and_image_urls(api, id_2)\n",
        "  if tweet2 is None:\n",
        "    print(rows['url_2'])\n",
        "    continue\n",
        "  if len(tweet2[1]) != 1:\n",
        "    print('Tweet', id2, 'without exactly one image')\n",
        "    continue\n",
        "  text_2, image_2 = tweet2[0], tweet2[1][0]\n",
        "\n",
        "  label = rows['label']\n",
        "  \n",
        "  tweets.append({\n",
        "      'id_1': id_1,\n",
        "      'text_1': text_1,\n",
        "      'image_1': image_1,\n",
        "      'id_2': id_2,\n",
        "      'text_2': text_2,\n",
        "      'image_2': image_2,\n",
        "      'label' : label\n",
        "  })"
      ],
      "execution_count": null,
      "outputs": []
    },
    {
      "cell_type": "code",
      "metadata": {
        "id": "75FHBcbfc0rB"
      },
      "source": [
        "contents_df = pd.DataFrame(tweets)\n",
        "contents_df"
      ],
      "execution_count": null,
      "outputs": []
    },
    {
      "cell_type": "code",
      "metadata": {
        "id": "uTayVuYMlcrw"
      },
      "source": [
        "def download(url, path, filename):\n",
        "  if not os.path.isdir(path):\n",
        "    os.makedirs(path)\n",
        "  response = requests.get(url, stream=True)\n",
        "  file_size = int(response.headers.get(\"Content-Length\", 0))\n",
        "  extension = '.' + url.split('.')[-1]\n",
        "  full_filename = os.path.join(path, filename + extension)\n",
        "  progress = tqdm(response.iter_content(1024),\n",
        "                  f\"Downloading {full_filename}\",\n",
        "                  total=file_size,\n",
        "                  unit=\"B\",\n",
        "                  unit_scale=True,\n",
        "                  unit_divisor=1024)\n",
        "  with open(full_filename, \"wb\") as f:\n",
        "    for data in progress:\n",
        "      f.write(data)\n",
        "      progress.update(len(data))"
      ],
      "execution_count": null,
      "outputs": []
    },
    {
      "cell_type": "code",
      "metadata": {
        "id": "2QPcOjUslpng"
      },
      "source": [
        "IMAGE_PATH = '/tmp/tweet_images/'\n",
        "for _, row in contents_df.iterrows():\n",
        "  download(row['image_1'], IMAGE_PATH, row['id_1'])\n",
        "  download(row['image_2'], IMAGE_PATH, row['id_2'])"
      ],
      "execution_count": null,
      "outputs": []
    },
    {
      "cell_type": "code",
      "metadata": {
        "id": "iSE1NWbEl7tW"
      },
      "source": [
        "image_file = os.path.join(IMAGE_PATH, contents_df['id_1'].iloc[0] + '.'\n",
        "                          + contents_df['image_1'].iloc[0].split('.')[-1])\n",
        "Image(image_file)"
      ],
      "execution_count": null,
      "outputs": []
    }
  ]
}